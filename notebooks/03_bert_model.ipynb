{
 "cells": [
  {
   "cell_type": "markdown",
   "id": "6a9e11b1",
   "metadata": {},
   "source": [
    "# Fake News Detection - BERT Model\n",
    "\n",
    "This notebook implements a BERT-based model for fake news detection."
   ]
  },
  {
   "cell_type": "code",
   "execution_count": null,
   "id": "71d90937",
   "metadata": {},
   "outputs": [],
   "source": [
    "import pandas as pd\n",
    "from transformers import BertTokenizerFast, BertForSequenceClassification, Trainer, TrainingArguments\n",
    "from datasets import Dataset\n",
    "from sklearn.model_selection import train_test_split\n",
    "\n",
    "# Load preprocessed data\n",
    "df = pd.read_csv(\"../data/preprocessed_data.csv\")\n",
    "\n",
    "# Sample data for quick training\n",
    "df_small = df.sample(5000, random_state=42)\n",
    "print(\"Using sample of size:\", len(df_small))"
   ]
  },
  {
   "cell_type": "code",
   "execution_count": null,
   "id": "0245c54e",
   "metadata": {},
   "outputs": [],
   "source": [
    "# Prepare train/val split\n",
    "train_texts, val_texts, train_labels, val_labels = train_test_split(\n",
    "    df_small[\"content\"].tolist(),\n",
    "    df_small[\"label\"].tolist(),\n",
    "    test_size=0.2\n",
    ")\n",
    "\n",
    "# Initialize tokenizer\n",
    "tokenizer = BertTokenizerFast.from_pretrained(\"bert-base-uncased\")\n",
    "train_encodings = tokenizer(train_texts, truncation=True, padding=True, max_length=512)\n",
    "val_encodings = tokenizer(val_texts, truncation=True, padding=True, max_length=512)"
   ]
  },
  {
   "cell_type": "code",
   "execution_count": null,
   "id": "3b5be200",
   "metadata": {},
   "outputs": [],
   "source": [
    "# Create datasets\n",
    "train_dataset = Dataset.from_dict({\n",
    "    'input_ids': train_encodings['input_ids'],\n",
    "    'attention_mask': train_encodings['attention_mask'],\n",
    "    'labels': train_labels\n",
    "})\n",
    "\n",
    "val_dataset = Dataset.from_dict({\n",
    "    'input_ids': val_encodings['input_ids'],\n",
    "    'attention_mask': val_encodings['attention_mask'],\n",
    "    'labels': val_labels\n",
    "})"
   ]
  },
  {
   "cell_type": "code",
   "execution_count": null,
   "id": "39612b33",
   "metadata": {},
   "outputs": [],
   "source": [
    "# Initialize model\n",
    "model = BertForSequenceClassification.from_pretrained(\"bert-base-uncased\")\n",
    "\n",
    "# Set up training arguments\n",
    "training_args = TrainingArguments(\n",
    "    output_dir='../results',\n",
    "    per_device_train_batch_size=8,\n",
    "    per_device_eval_batch_size=8,\n",
    "    num_train_epochs=2,\n",
    "    evaluation_strategy=\"epoch\"\n",
    ")\n",
    "\n",
    "# Initialize trainer\n",
    "trainer = Trainer(\n",
    "    model=model,\n",
    "    args=training_args,\n",
    "    train_dataset=train_dataset,\n",
    "    eval_dataset=val_dataset\n",
    ")"
   ]
  },
  {
   "cell_type": "code",
   "execution_count": null,
   "id": "22b69c29",
   "metadata": {},
   "outputs": [],
   "source": [
    "# Train the model\n",
    "trainer.train()"
   ]
  },
  {
   "cell_type": "code",
   "execution_count": null,
   "id": "6473745f",
   "metadata": {},
   "outputs": [],
   "source": [
    "# Evaluate\n",
    "from sklearn.metrics import classification_report\n",
    "\n",
    "preds_output = trainer.predict(val_dataset)\n",
    "preds = preds_output.predictions.argmax(axis=1)\n",
    "print(classification_report(val_labels, preds))"
   ]
  }
 ],
 "metadata": {
  "language_info": {
   "name": "python"
  }
 },
 "nbformat": 4,
 "nbformat_minor": 5
}
