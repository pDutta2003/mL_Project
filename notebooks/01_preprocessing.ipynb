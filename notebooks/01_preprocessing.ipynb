{
 "cells": [
  {
   "cell_type": "markdown",
   "id": "3f8ddcf5",
   "metadata": {},
   "source": [
    "# Fake News Detection - Data Preprocessing\n",
    "\n",
    "This notebook handles the data loading and preprocessing steps for our fake news detection project."
   ]
  },
  {
   "cell_type": "code",
   "execution_count": null,
   "id": "2dae0847",
   "metadata": {},
   "outputs": [],
   "source": [
    "import pandas as pd\n",
    "import re\n",
    "import nltk\n",
    "from nltk.corpus import stopwords\n",
    "nltk.download('stopwords')\n",
    "\n",
    "# Load datasets\n",
    "fake = pd.read_csv(\"../data/Fake.csv\")\n",
    "real = pd.read_csv(\"../data/True.csv\")\n",
    "\n",
    "# Add target labels\n",
    "fake[\"label\"] = 0\n",
    "real[\"label\"] = 1\n",
    "\n",
    "# Combine and shuffle\n",
    "df = pd.concat([fake, real], axis=0).sample(frac=1, random_state=42).reset_index(drop=True)\n",
    "\n",
    "# Combine title and text first\n",
    "df[\"content\"] = df[\"title\"] + \" \" + df[\"text\"]\n",
    "\n",
    "print(\"Dataset shape:\", df.shape)\n",
    "df.head()"
   ]
  },
  {
   "cell_type": "code",
   "execution_count": null,
   "id": "92a5233e",
   "metadata": {},
   "outputs": [],
   "source": [
    "def clean_text(text):\n",
    "    # Remove URLs\n",
    "    text = re.sub(r\"http\\S+\", \"\", text)\n",
    "    # Remove non-alphabetic characters\n",
    "    text = re.sub(r\"[^a-zA-Z]\", \" \", text)\n",
    "    # Convert to lowercase\n",
    "    text = text.lower()\n",
    "    # Split into words\n",
    "    text = text.split()\n",
    "    # Remove stopwords\n",
    "    text = [w for w in text if not w in stopwords.words(\"english\")]\n",
    "    return \" \".join(text)\n",
    "\n",
    "# Apply text cleaning\n",
    "print(\"Starting text preprocessing...\")\n",
    "df[\"clean_text\"] = df[\"content\"].apply(clean_text)\n",
    "print(\"Preprocessing complete!\")\n",
    "\n",
    "# Keep only necessary columns\n",
    "df = df[[\"content\", \"clean_text\", \"label\"]]\n",
    "\n",
    "# Save preprocessed data\n",
    "df.to_csv(\"../data/preprocessed_data.csv\", index=False)\n",
    "print(\"Data saved to preprocessed_data.csv\")\n",
    "\n",
    "# Display sample\n",
    "df.head()"
   ]
  }
 ],
 "metadata": {
  "language_info": {
   "name": "python"
  }
 },
 "nbformat": 4,
 "nbformat_minor": 5
}
