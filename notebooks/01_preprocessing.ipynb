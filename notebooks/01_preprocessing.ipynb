{
 "cells": [
  {
   "cell_type": "markdown",
   "id": "3f8ddcf5",
   "metadata": {},
   "source": [
    "# Fake News Detection - Data Preprocessing\n",
    "\n",
    "This notebook handles the data loading and preprocessing steps for our fake news detection project."
   ]
  },
  {
   "cell_type": "code",
   "execution_count": null,
   "id": "778950c4",
   "metadata": {},
   "outputs": [],
   "source": [
    "import kagglehub\n",
    "import pandas as pd\n",
    "import re\n",
    "import nltk\n",
    "from nltk.corpus import stopwords\n",
    "nltk.download('stopwords')\n",
    "\n",
    "# Download dataset\n",
    "path = kagglehub.dataset_download(\"clmentbisaillon/fake-and-real-news-dataset\")\n",
    "print(\"Path to dataset files:\", path)"
   ]
  },
  {
   "cell_type": "code",
   "execution_count": null,
   "id": "594f6b24",
   "metadata": {},
   "outputs": [],
   "source": [
    "# Load datasets\n",
    "fake = pd.read_csv(path + \"/Fake.csv\")\n",
    "real = pd.read_csv(path + \"/True.csv\")\n",
    "\n",
    "# Add target labels\n",
    "fake[\"label\"] = 0\n",
    "real[\"label\"] = 1\n",
    "\n",
    "# Combine and shuffle\n",
    "df = pd.concat([fake, real], axis=0).sample(frac=1, random_state=42).reset_index(drop=True)\n",
    "\n",
    "# Combine title and text\n",
    "df[\"content\"] = df[\"title\"] + \" \" + df[\"text\"]\n",
    "df = df[[\"content\", \"label\"]]\n",
    "\n",
    "print(\"Dataset shape:\", df.shape)\n",
    "df.head()"
   ]
  },
  {
   "cell_type": "code",
   "execution_count": null,
   "id": "34a0acad",
   "metadata": {},
   "outputs": [],
   "source": [
    "def clean_text(text):\n",
    "    text = re.sub(r\"http\\S+\", \"\", text)\n",
    "    text = re.sub(r\"[^a-zA-Z]\", \" \", text)\n",
    "    text = text.lower()\n",
    "    text = text.split()\n",
    "    text = [w for w in text if not w in stopwords.words(\"english\")]\n",
    "    return \" \".join(text)\n",
    "\n",
    "# Apply text cleaning\n",
    "df[\"clean_text\"] = df[\"content\"].apply(clean_text)\n",
    "\n",
    "# Save preprocessed data\n",
    "df.to_csv(\"../data/preprocessed_data.csv\", index=False)\n",
    "print(\"Preprocessing complete! Data saved to preprocessed_data.csv\")\n",
    "df.head()"
   ]
  }
 ],
 "metadata": {
  "language_info": {
   "name": "python"
  }
 },
 "nbformat": 4,
 "nbformat_minor": 5
}
